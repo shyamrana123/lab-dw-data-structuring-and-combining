{
 "cells": [
  {
   "cell_type": "markdown",
   "id": "25d7736c-ba17-4aff-b6bb-66eba20fbf4e",
   "metadata": {
    "id": "25d7736c-ba17-4aff-b6bb-66eba20fbf4e"
   },
   "source": [
    "# Lab | Data Structuring and Combining Data"
   ]
  },
  {
   "cell_type": "markdown",
   "id": "a2cdfc70-44c8-478c-81e7-2bc43fdf4986",
   "metadata": {
    "id": "a2cdfc70-44c8-478c-81e7-2bc43fdf4986"
   },
   "source": [
    "## Challenge 1: Combining & Cleaning Data\n",
    "\n",
    "In this challenge, we will be working with the customer data from an insurance company, as we did in the two previous labs. The data can be found here:\n",
    "- https://raw.githubusercontent.com/data-bootcamp-v4/data/main/file1.csv\n",
    "\n",
    "But this time, we got new data, which can be found in the following 2 CSV files located at the links below.\n",
    "\n",
    "- https://raw.githubusercontent.com/data-bootcamp-v4/data/main/file2.csv\n",
    "- https://raw.githubusercontent.com/data-bootcamp-v4/data/main/file3.csv\n",
    "\n",
    "Note that you'll need to clean and format the new data.\n",
    "\n",
    "Observation:\n",
    "- One option is to first combine the three datasets and then apply the cleaning function to the new combined dataset\n",
    "- Another option would be to read the clean file you saved in the previous lab, and just clean the two new files and concatenate the three clean datasets"
   ]
  },
  {
   "cell_type": "code",
   "execution_count": 5,
   "id": "3b1c35f3",
   "metadata": {},
   "outputs": [],
   "source": [
    "import pandas as pd\n",
    "company_df = pd.read_csv(\"https://raw.githubusercontent.com/data-bootcamp-v4/data/main/file1.csv\")\n",
    "company_df2 = pd.read_csv(\"https://raw.githubusercontent.com/data-bootcamp-v4/data/main/file2.csv\")\n",
    "company_df3 = pd.read_csv(\"https://raw.githubusercontent.com/data-bootcamp-v4/data/main/file3.csv\")"
   ]
  },
  {
   "cell_type": "code",
   "execution_count": 6,
   "id": "2a70316b",
   "metadata": {},
   "outputs": [],
   "source": [
    "# Cleaning data frame 1\n",
    "def clean_data():                                                                                                   # Defining a function to clean data\n",
    "    company_df.columns = [col.lower().replace(\" \",\"_\") for col in company_df.columns]                               # Cleaning the name of the columns\n",
    "    company_df.rename(columns={\"st\":\"state\"}, inplace=True)                                                         # Changing st to state\n",
    "    def change_sex(row):                                                                                            #Function to replace inconsistent values with 'M' and 'F' and Null values with None.\n",
    "        if row[0] == \"m\" or  row[0] == \"M\":\n",
    "            return \"M\"  \n",
    "        elif row[0] == \"f\" or row[0] == \"F\":\n",
    "            return \"F\"\n",
    "        else:\n",
    "            return None\n",
    "    \n",
    "    company_df[\"gender\"] = company_df[\"gender\"].astype(str)                                                          # converting the datatype of column into string due to error float not subscriptable\n",
    "    company_df[\"gender\"]= company_df[\"gender\"].apply(change_sex)    \n",
    "    company_df[\"state\"]= company_df[\"state\"].replace([\"AZ\" ,\"WA\", \"Cali\"],[\"Arizona\",\"Washington\",\"California\"])\n",
    "    company_df[\"education\"]= company_df[\"education\"].replace(\"Bachelors\",\"Bachelor\")                                 # replacing Bachelors with Bachelor\n",
    "    company_df.dropna(inplace= True)                                                                                 #removing the null value rows\n",
    "    company_df[\"customer_lifetime_value\"] = company_df[\"customer_lifetime_value\"].astype(str)                        # *In Customer Lifetime Value, delete the `%` character*\n",
    "    company_df[\"customer_lifetime_value\"] = company_df[\"customer_lifetime_value\"].apply(lambda x: x.split(\"%\")[0])\n",
    "    company_df[\"customer_lifetime_value\"] = company_df[\"customer_lifetime_value\"].astype(float)\n",
    "    company_df[\"vehicle_class\"]= company_df[\"vehicle_class\"].replace([\"Sports Car\" ,\"Luxury SUV\", \"Luxury Car\"],[\"Luxury\",\"Luxury\",\"Luxury\"]) #- *In vehicle class, \"Sports Car\", \"Luxury SUV\" and \"Luxury Car\" could be replaced by \"Luxury\"*\n",
    "    company_df[\"number_of_open_complaints\"] = company_df[\"number_of_open_complaints\"].astype(str)                    #changing the datatype\n",
    "    company_df[\"number_of_open_complaints\"]= company_df[\"number_of_open_complaints\"].apply(lambda x:x.split('/')[1]) #splitting with \"/\" , and retaining the 2nd object of the list generated.\n",
    "    company_df[\"number_of_open_complaints\"] = company_df[\"number_of_open_complaints\"].astype(int)                    #assigning the datatype integer.\n",
    "    company_df[\"total_claim_amount\"] = company_df[\"total_claim_amount\"].round(2)\n",
    "    return\n",
    "    \n",
    "clean_data() "
   ]
  },
  {
   "cell_type": "code",
   "execution_count": 8,
   "id": "fce7eeaf",
   "metadata": {},
   "outputs": [],
   "source": [
    "# cleaning of data frame 2\n",
    "company_df2.columns = [col.lower().replace(\" \",\"_\") for col in company_df2.columns]                               # Cleaning the name of the columns\n",
    "company_df2.rename(columns={\"st\":\"state\"}, inplace=True)                                                         # Changing st to state\n",
    "company_df2[\"vehicle_class\"]= company_df2[\"vehicle_class\"].replace([\"Sports Car\" ,\"Luxury SUV\", \"Luxury Car\"],[\"Luxury\",\"Luxury\",\"Luxury\"]) #- *In vehicle class, \"Sports Car\", \"Luxury SUV\" and \"Luxury Car\" could be replaced by \"Luxury\"*\n",
    "company_df2[\"gender\"] = company_df2[\"gender\"].astype(str)    \n",
    "def change_sex(row):            #Function to replace inconsistent values with 'M' and 'F' and Null values with None.\n",
    "    if row[0] == \"m\" or  row[0] == \"M\":\n",
    "        return \"M\"  \n",
    "    elif row[0] == \"f\" or row[0] == \"F\":\n",
    "        return \"F\"\n",
    "    else:\n",
    "        return None\n",
    "\n",
    "company_df2[\"gender\"]=company_df2[\"gender\"].apply(change_sex)\n",
    "company_df2[\"state\"]= company_df2[\"state\"].replace([\"AZ\"],[\"Arizona\"])\n",
    "company_df2[\"education\"]= company_df2[\"education\"].replace(\"Bachelors\",\"Bachelor\")                                 # replacing Bachelors with Bachelor\n",
    "company_df2[\"customer_lifetime_value\"] = company_df2[\"customer_lifetime_value\"].astype(str)                        # *In Customer Lifetime Value, delete the `%` character*\n",
    "company_df2[\"customer_lifetime_value\"] = company_df2[\"customer_lifetime_value\"].apply(lambda x: x.split(\"%\")[0])\n",
    "company_df2[\"customer_lifetime_value\"] = company_df2[\"customer_lifetime_value\"].astype(float)\n",
    "company_df2[\"number_of_open_complaints\"] = company_df2[\"number_of_open_complaints\"].astype(str)                    #changing the datatype\n",
    "company_df2[\"number_of_open_complaints\"]= company_df2[\"number_of_open_complaints\"].apply(lambda x:x.split('/')[1]) #splitting with \"/\" , and retaining the 2nd object of the list generated.\n",
    "company_df2[\"number_of_open_complaints\"] = company_df2[\"number_of_open_complaints\"].astype(int) "
   ]
  },
  {
   "cell_type": "code",
   "execution_count": 9,
   "id": "30c4d7cd",
   "metadata": {},
   "outputs": [],
   "source": [
    "# Cleaning of data frame 3\n",
    "company_df3.columns = [col.lower().replace(\" \",\"_\") for col in company_df3.columns]                               # Cleaning the name of the columns\n",
    "company_df3[\"vehicle_class\"]= company_df3[\"vehicle_class\"].replace([\"Sports Car\" ,\"Luxury SUV\", \"Luxury Car\"],[\"Luxury\",\"Luxury\",\"Luxury\"]) #- *In vehicle class, \"Sports Car\", \"Luxury SUV\" and \"Luxury Car\" could be replaced by \"Luxury\"*"
   ]
  },
  {
   "cell_type": "code",
   "execution_count": 10,
   "id": "287a277b",
   "metadata": {},
   "outputs": [],
   "source": [
    "#CONCATINATING THE THREE DATAFRAMES:\n",
    "company_full = pd.concat([company_df, company_df2,company_df3], axis=0)\n",
    "company_full.reset_index(inplace=True)"
   ]
  },
  {
   "cell_type": "code",
   "execution_count": 11,
   "id": "906650c4",
   "metadata": {},
   "outputs": [
    {
     "data": {
      "text/html": [
       "<div>\n",
       "<style scoped>\n",
       "    .dataframe tbody tr th:only-of-type {\n",
       "        vertical-align: middle;\n",
       "    }\n",
       "\n",
       "    .dataframe tbody tr th {\n",
       "        vertical-align: top;\n",
       "    }\n",
       "\n",
       "    .dataframe thead th {\n",
       "        text-align: right;\n",
       "    }\n",
       "</style>\n",
       "<table border=\"1\" class=\"dataframe\">\n",
       "  <thead>\n",
       "    <tr style=\"text-align: right;\">\n",
       "      <th></th>\n",
       "      <th>index</th>\n",
       "      <th>customer</th>\n",
       "      <th>state</th>\n",
       "      <th>gender</th>\n",
       "      <th>education</th>\n",
       "      <th>customer_lifetime_value</th>\n",
       "      <th>income</th>\n",
       "      <th>monthly_premium_auto</th>\n",
       "      <th>number_of_open_complaints</th>\n",
       "      <th>policy_type</th>\n",
       "      <th>vehicle_class</th>\n",
       "      <th>total_claim_amount</th>\n",
       "    </tr>\n",
       "  </thead>\n",
       "  <tbody>\n",
       "    <tr>\n",
       "      <th>0</th>\n",
       "      <td>1</td>\n",
       "      <td>QZ44356</td>\n",
       "      <td>Arizona</td>\n",
       "      <td>F</td>\n",
       "      <td>Bachelor</td>\n",
       "      <td>6.979536e+05</td>\n",
       "      <td>0.0</td>\n",
       "      <td>94.0</td>\n",
       "      <td>0</td>\n",
       "      <td>Personal Auto</td>\n",
       "      <td>Four-Door Car</td>\n",
       "      <td>1131.460000</td>\n",
       "    </tr>\n",
       "    <tr>\n",
       "      <th>1</th>\n",
       "      <td>2</td>\n",
       "      <td>AI49188</td>\n",
       "      <td>Nevada</td>\n",
       "      <td>F</td>\n",
       "      <td>Bachelor</td>\n",
       "      <td>1.288743e+06</td>\n",
       "      <td>48767.0</td>\n",
       "      <td>108.0</td>\n",
       "      <td>0</td>\n",
       "      <td>Personal Auto</td>\n",
       "      <td>Two-Door Car</td>\n",
       "      <td>566.470000</td>\n",
       "    </tr>\n",
       "    <tr>\n",
       "      <th>2</th>\n",
       "      <td>3</td>\n",
       "      <td>WW63253</td>\n",
       "      <td>California</td>\n",
       "      <td>M</td>\n",
       "      <td>Bachelor</td>\n",
       "      <td>7.645862e+05</td>\n",
       "      <td>0.0</td>\n",
       "      <td>106.0</td>\n",
       "      <td>0</td>\n",
       "      <td>Corporate Auto</td>\n",
       "      <td>SUV</td>\n",
       "      <td>529.880000</td>\n",
       "    </tr>\n",
       "    <tr>\n",
       "      <th>3</th>\n",
       "      <td>4</td>\n",
       "      <td>GA49547</td>\n",
       "      <td>Washington</td>\n",
       "      <td>M</td>\n",
       "      <td>High School or Below</td>\n",
       "      <td>5.363077e+05</td>\n",
       "      <td>36357.0</td>\n",
       "      <td>68.0</td>\n",
       "      <td>0</td>\n",
       "      <td>Personal Auto</td>\n",
       "      <td>Four-Door Car</td>\n",
       "      <td>17.270000</td>\n",
       "    </tr>\n",
       "    <tr>\n",
       "      <th>4</th>\n",
       "      <td>5</td>\n",
       "      <td>OC83172</td>\n",
       "      <td>Oregon</td>\n",
       "      <td>F</td>\n",
       "      <td>Bachelor</td>\n",
       "      <td>8.256298e+05</td>\n",
       "      <td>62902.0</td>\n",
       "      <td>69.0</td>\n",
       "      <td>0</td>\n",
       "      <td>Personal Auto</td>\n",
       "      <td>Two-Door Car</td>\n",
       "      <td>159.380000</td>\n",
       "    </tr>\n",
       "    <tr>\n",
       "      <th>...</th>\n",
       "      <td>...</td>\n",
       "      <td>...</td>\n",
       "      <td>...</td>\n",
       "      <td>...</td>\n",
       "      <td>...</td>\n",
       "      <td>...</td>\n",
       "      <td>...</td>\n",
       "      <td>...</td>\n",
       "      <td>...</td>\n",
       "      <td>...</td>\n",
       "      <td>...</td>\n",
       "      <td>...</td>\n",
       "    </tr>\n",
       "    <tr>\n",
       "      <th>9013</th>\n",
       "      <td>7065</td>\n",
       "      <td>LA72316</td>\n",
       "      <td>California</td>\n",
       "      <td>M</td>\n",
       "      <td>Bachelor</td>\n",
       "      <td>2.340599e+04</td>\n",
       "      <td>71941.0</td>\n",
       "      <td>73.0</td>\n",
       "      <td>0</td>\n",
       "      <td>Personal Auto</td>\n",
       "      <td>Four-Door Car</td>\n",
       "      <td>198.234764</td>\n",
       "    </tr>\n",
       "    <tr>\n",
       "      <th>9014</th>\n",
       "      <td>7066</td>\n",
       "      <td>PK87824</td>\n",
       "      <td>California</td>\n",
       "      <td>F</td>\n",
       "      <td>College</td>\n",
       "      <td>3.096511e+03</td>\n",
       "      <td>21604.0</td>\n",
       "      <td>79.0</td>\n",
       "      <td>0</td>\n",
       "      <td>Corporate Auto</td>\n",
       "      <td>Four-Door Car</td>\n",
       "      <td>379.200000</td>\n",
       "    </tr>\n",
       "    <tr>\n",
       "      <th>9015</th>\n",
       "      <td>7067</td>\n",
       "      <td>TD14365</td>\n",
       "      <td>California</td>\n",
       "      <td>M</td>\n",
       "      <td>Bachelor</td>\n",
       "      <td>8.163890e+03</td>\n",
       "      <td>0.0</td>\n",
       "      <td>85.0</td>\n",
       "      <td>3</td>\n",
       "      <td>Corporate Auto</td>\n",
       "      <td>Four-Door Car</td>\n",
       "      <td>790.784983</td>\n",
       "    </tr>\n",
       "    <tr>\n",
       "      <th>9016</th>\n",
       "      <td>7068</td>\n",
       "      <td>UP19263</td>\n",
       "      <td>California</td>\n",
       "      <td>M</td>\n",
       "      <td>College</td>\n",
       "      <td>7.524442e+03</td>\n",
       "      <td>21941.0</td>\n",
       "      <td>96.0</td>\n",
       "      <td>0</td>\n",
       "      <td>Personal Auto</td>\n",
       "      <td>Four-Door Car</td>\n",
       "      <td>691.200000</td>\n",
       "    </tr>\n",
       "    <tr>\n",
       "      <th>9017</th>\n",
       "      <td>7069</td>\n",
       "      <td>Y167826</td>\n",
       "      <td>California</td>\n",
       "      <td>M</td>\n",
       "      <td>College</td>\n",
       "      <td>2.611837e+03</td>\n",
       "      <td>0.0</td>\n",
       "      <td>77.0</td>\n",
       "      <td>0</td>\n",
       "      <td>Corporate Auto</td>\n",
       "      <td>Two-Door Car</td>\n",
       "      <td>369.600000</td>\n",
       "    </tr>\n",
       "  </tbody>\n",
       "</table>\n",
       "<p>9018 rows × 12 columns</p>\n",
       "</div>"
      ],
      "text/plain": [
       "      index customer       state gender             education  \\\n",
       "0         1  QZ44356     Arizona      F              Bachelor   \n",
       "1         2  AI49188      Nevada      F              Bachelor   \n",
       "2         3  WW63253  California      M              Bachelor   \n",
       "3         4  GA49547  Washington      M  High School or Below   \n",
       "4         5  OC83172      Oregon      F              Bachelor   \n",
       "...     ...      ...         ...    ...                   ...   \n",
       "9013   7065  LA72316  California      M              Bachelor   \n",
       "9014   7066  PK87824  California      F               College   \n",
       "9015   7067  TD14365  California      M              Bachelor   \n",
       "9016   7068  UP19263  California      M               College   \n",
       "9017   7069  Y167826  California      M               College   \n",
       "\n",
       "      customer_lifetime_value   income  monthly_premium_auto  \\\n",
       "0                6.979536e+05      0.0                  94.0   \n",
       "1                1.288743e+06  48767.0                 108.0   \n",
       "2                7.645862e+05      0.0                 106.0   \n",
       "3                5.363077e+05  36357.0                  68.0   \n",
       "4                8.256298e+05  62902.0                  69.0   \n",
       "...                       ...      ...                   ...   \n",
       "9013             2.340599e+04  71941.0                  73.0   \n",
       "9014             3.096511e+03  21604.0                  79.0   \n",
       "9015             8.163890e+03      0.0                  85.0   \n",
       "9016             7.524442e+03  21941.0                  96.0   \n",
       "9017             2.611837e+03      0.0                  77.0   \n",
       "\n",
       "      number_of_open_complaints     policy_type  vehicle_class  \\\n",
       "0                             0   Personal Auto  Four-Door Car   \n",
       "1                             0   Personal Auto   Two-Door Car   \n",
       "2                             0  Corporate Auto            SUV   \n",
       "3                             0   Personal Auto  Four-Door Car   \n",
       "4                             0   Personal Auto   Two-Door Car   \n",
       "...                         ...             ...            ...   \n",
       "9013                          0   Personal Auto  Four-Door Car   \n",
       "9014                          0  Corporate Auto  Four-Door Car   \n",
       "9015                          3  Corporate Auto  Four-Door Car   \n",
       "9016                          0   Personal Auto  Four-Door Car   \n",
       "9017                          0  Corporate Auto   Two-Door Car   \n",
       "\n",
       "      total_claim_amount  \n",
       "0            1131.460000  \n",
       "1             566.470000  \n",
       "2             529.880000  \n",
       "3              17.270000  \n",
       "4             159.380000  \n",
       "...                  ...  \n",
       "9013          198.234764  \n",
       "9014          379.200000  \n",
       "9015          790.784983  \n",
       "9016          691.200000  \n",
       "9017          369.600000  \n",
       "\n",
       "[9018 rows x 12 columns]"
      ]
     },
     "execution_count": 11,
     "metadata": {},
     "output_type": "execute_result"
    }
   ],
   "source": [
    "company_full"
   ]
  },
  {
   "cell_type": "markdown",
   "id": "31b8a9e7-7db9-4604-991b-ef6771603e57",
   "metadata": {
    "id": "31b8a9e7-7db9-4604-991b-ef6771603e57"
   },
   "source": [
    "# Challenge 2: Structuring Data"
   ]
  },
  {
   "cell_type": "markdown",
   "id": "a877fd6d-7a0c-46d2-9657-f25036e4ca4b",
   "metadata": {
    "id": "a877fd6d-7a0c-46d2-9657-f25036e4ca4b"
   },
   "source": [
    "In this challenge, we will continue to work with customer data from an insurance company, but we will use a dataset with more columns, called marketing_customer_analysis.csv, which can be found at the following link:\n",
    "\n",
    "https://raw.githubusercontent.com/data-bootcamp-v4/data/main/marketing_customer_analysis_clean.csv\n",
    "\n",
    "This dataset contains information such as customer demographics, policy details, vehicle information, and the customer's response to the last marketing campaign. Our goal is to explore and analyze this data by performing data cleaning, formatting, and structuring."
   ]
  },
  {
   "cell_type": "code",
   "execution_count": 12,
   "id": "aa10d9b0-1c27-4d3f-a8e4-db6ab73bfd26",
   "metadata": {
    "id": "aa10d9b0-1c27-4d3f-a8e4-db6ab73bfd26"
   },
   "outputs": [],
   "source": [
    "# Your code goes here\n",
    "marketing_df = pd.read_csv(\"https://raw.githubusercontent.com/data-bootcamp-v4/data/main/marketing_customer_analysis_clean.csv\")"
   ]
  },
  {
   "cell_type": "code",
   "execution_count": 13,
   "id": "903fcce5",
   "metadata": {},
   "outputs": [],
   "source": [
    "marketing_df.drop(columns = [\"unnamed:_0\",\"vehicle_type\",\"month\"],inplace = True)# Removing unwanted columns\n",
    "marketing_df[\"vehicle_class\"]= marketing_df[\"vehicle_class\"].replace([\"Sports Car\" ,\"Luxury SUV\", \"Luxury Car\"],[\"Luxury\",\"Luxury\",\"Luxury\"]) #- *In vehicle class, \"Sports Car\", \"Luxury SUV\" and \"Luxury Car\" could be replaced by \"Luxury\"*\n",
    "marketing_df[\"number_of_open_complaints\"]= marketing_df[\"number_of_open_complaints\"].astype(int)   # changing datatype of number of open complaints column"
   ]
  },
  {
   "cell_type": "code",
   "execution_count": 35,
   "id": "a5754d47",
   "metadata": {},
   "outputs": [
    {
     "data": {
      "text/plain": [
       "0      4809.216960\n",
       "1      2228.525238\n",
       "2     14947.917300\n",
       "3     22332.439460\n",
       "4      9025.067525\n",
       "5      4745.181764\n",
       "6      5035.035257\n",
       "7      4956.247235\n",
       "8      5989.773931\n",
       "9     17114.328150\n",
       "10     5154.764074\n",
       "11     2420.711888\n",
       "12    19955.257130\n",
       "13     5454.587929\n",
       "14    12836.009510\n",
       "15     4626.801093\n",
       "16     5326.677654\n",
       "17     2497.531509\n",
       "18     2736.352663\n",
       "19     3746.751625\n",
       "Name: customer_lifetime_value, dtype: float64"
      ]
     },
     "execution_count": 35,
     "metadata": {},
     "output_type": "execute_result"
    }
   ],
   "source": [
    "\n",
    "marketing_df[\"customer_lifetime_value\"].head(20)"
   ]
  },
  {
   "cell_type": "code",
   "execution_count": 16,
   "id": "381d71df",
   "metadata": {},
   "outputs": [
    {
     "data": {
      "text/plain": [
       "['customer',\n",
       " 'state',\n",
       " 'customer_lifetime_value',\n",
       " 'response',\n",
       " 'coverage',\n",
       " 'education',\n",
       " 'effective_to_date',\n",
       " 'employmentstatus',\n",
       " 'gender',\n",
       " 'income',\n",
       " 'location_code',\n",
       " 'marital_status',\n",
       " 'monthly_premium_auto',\n",
       " 'months_since_last_claim',\n",
       " 'months_since_policy_inception',\n",
       " 'number_of_open_complaints',\n",
       " 'number_of_policies',\n",
       " 'policy_type',\n",
       " 'policy',\n",
       " 'renew_offer_type',\n",
       " 'sales_channel',\n",
       " 'total_claim_amount',\n",
       " 'vehicle_class',\n",
       " 'vehicle_size']"
      ]
     },
     "execution_count": 16,
     "metadata": {},
     "output_type": "execute_result"
    }
   ],
   "source": [
    "list(marketing_df.columns)"
   ]
  },
  {
   "cell_type": "markdown",
   "id": "df35fd0d-513e-4e77-867e-429da10a9cc7",
   "metadata": {
    "id": "df35fd0d-513e-4e77-867e-429da10a9cc7"
   },
   "source": [
    "1. You work at the marketing department and you want to know which sales channel brought the most sales in terms of total revenue. Using pivot, create a summary table showing the total revenue for each sales channel (branch, call center, web, and mail).\n",
    "Round the total revenue to 2 decimal points.  Analyze the resulting table to draw insights."
   ]
  },
  {
   "cell_type": "code",
   "execution_count": 27,
   "id": "03353ac4",
   "metadata": {},
   "outputs": [
    {
     "data": {
      "text/html": [
       "<div>\n",
       "<style scoped>\n",
       "    .dataframe tbody tr th:only-of-type {\n",
       "        vertical-align: middle;\n",
       "    }\n",
       "\n",
       "    .dataframe tbody tr th {\n",
       "        vertical-align: top;\n",
       "    }\n",
       "\n",
       "    .dataframe thead th {\n",
       "        text-align: right;\n",
       "    }\n",
       "</style>\n",
       "<table border=\"1\" class=\"dataframe\">\n",
       "  <thead>\n",
       "    <tr style=\"text-align: right;\">\n",
       "      <th>sales_channel</th>\n",
       "      <th>Agent</th>\n",
       "      <th>Branch</th>\n",
       "      <th>Call Center</th>\n",
       "      <th>Web</th>\n",
       "    </tr>\n",
       "  </thead>\n",
       "  <tbody>\n",
       "    <tr>\n",
       "      <th>total_claim_amount</th>\n",
       "      <td>1810226.82</td>\n",
       "      <td>1301204.0</td>\n",
       "      <td>926600.82</td>\n",
       "      <td>706600.04</td>\n",
       "    </tr>\n",
       "  </tbody>\n",
       "</table>\n",
       "</div>"
      ],
      "text/plain": [
       "sales_channel            Agent     Branch  Call Center        Web\n",
       "total_claim_amount  1810226.82  1301204.0    926600.82  706600.04"
      ]
     },
     "metadata": {},
     "output_type": "display_data"
    }
   ],
   "source": [
    "pivot_1 = marketing_df.pivot_table(columns='sales_channel',values =['total_claim_amount',], aggfunc='sum') # pivoting the columns 'sales channel' and  aggregating 'total claim amount'\n",
    "pivot_2 = pivot_1.round(decimals=2,)                                                                      # rounding the total revenue to 2 decimal places\n",
    "display(pivot_2)"
   ]
  },
  {
   "cell_type": "code",
   "execution_count": null,
   "id": "eb0251d5",
   "metadata": {},
   "outputs": [],
   "source": [
    "#From the dataframe, we can see that sales through Agent surpasses the other three channels by miles. At second position is Branch followed by Call Center and the last is Web."
   ]
  },
  {
   "cell_type": "markdown",
   "id": "640993b2-a291-436c-a34d-a551144f8196",
   "metadata": {
    "id": "640993b2-a291-436c-a34d-a551144f8196"
   },
   "source": [
    "2. Create a pivot table that shows the average customer lifetime value per gender and education level. Analyze the resulting table to draw insights."
   ]
  },
  {
   "cell_type": "code",
   "execution_count": 34,
   "id": "411fadcf",
   "metadata": {},
   "outputs": [
    {
     "data": {
      "text/html": [
       "<div>\n",
       "<style scoped>\n",
       "    .dataframe tbody tr th:only-of-type {\n",
       "        vertical-align: middle;\n",
       "    }\n",
       "\n",
       "    .dataframe tbody tr th {\n",
       "        vertical-align: top;\n",
       "    }\n",
       "\n",
       "    .dataframe thead th {\n",
       "        text-align: right;\n",
       "    }\n",
       "</style>\n",
       "<table border=\"1\" class=\"dataframe\">\n",
       "  <thead>\n",
       "    <tr style=\"text-align: right;\">\n",
       "      <th>education</th>\n",
       "      <th>Bachelor</th>\n",
       "      <th>College</th>\n",
       "      <th>Doctor</th>\n",
       "      <th>High School or Below</th>\n",
       "      <th>Master</th>\n",
       "    </tr>\n",
       "    <tr>\n",
       "      <th>gender</th>\n",
       "      <th></th>\n",
       "      <th></th>\n",
       "      <th></th>\n",
       "      <th></th>\n",
       "      <th></th>\n",
       "    </tr>\n",
       "  </thead>\n",
       "  <tbody>\n",
       "    <tr>\n",
       "      <th>F</th>\n",
       "      <td>7874.27</td>\n",
       "      <td>7748.82</td>\n",
       "      <td>7328.51</td>\n",
       "      <td>8675.22</td>\n",
       "      <td>8157.05</td>\n",
       "    </tr>\n",
       "    <tr>\n",
       "      <th>M</th>\n",
       "      <td>7703.60</td>\n",
       "      <td>8052.46</td>\n",
       "      <td>7415.33</td>\n",
       "      <td>8149.69</td>\n",
       "      <td>8168.83</td>\n",
       "    </tr>\n",
       "  </tbody>\n",
       "</table>\n",
       "</div>"
      ],
      "text/plain": [
       "education  Bachelor  College   Doctor  High School or Below   Master\n",
       "gender                                                              \n",
       "F           7874.27  7748.82  7328.51               8675.22  8157.05\n",
       "M           7703.60  8052.46  7415.33               8149.69  8168.83"
      ]
     },
     "metadata": {},
     "output_type": "display_data"
    }
   ],
   "source": [
    "pivot_3 = marketing_df.pivot_table(index=\"gender\",columns=  \"education\", values = \"customer_lifetime_value\", aggfunc= \"mean\")\n",
    "pivot_4 = pivot_3.round(decimals=2,)                                                                      # rounding the total revenue to 2 decimal places\n",
    "display(pivot_4)"
   ]
  },
  {
   "cell_type": "code",
   "execution_count": null,
   "id": "c96bc674",
   "metadata": {},
   "outputs": [],
   "source": [
    "# Female with education level High School or Below have the highest average customer lifetime value while female doctors have the least.\n",
    "# Amongst the male customers, those having Masters have the most customer lifetime value and men with Doctorate have the least customer life time value."
   ]
  },
  {
   "cell_type": "markdown",
   "id": "32c7f2e5-3d90-43e5-be33-9781b6069198",
   "metadata": {
    "id": "32c7f2e5-3d90-43e5-be33-9781b6069198"
   },
   "source": [
    "## Bonus\n",
    "\n",
    "You work at the customer service department and you want to know which months had the highest number of complaints by policy type category. Create a summary table showing the number of complaints by policy type and month.\n",
    "Show it in a long format table."
   ]
  },
  {
   "cell_type": "code",
   "execution_count": null,
   "id": "00988cd4",
   "metadata": {},
   "outputs": [],
   "source": []
  },
  {
   "cell_type": "markdown",
   "id": "466764fa",
   "metadata": {},
   "source": [
    "## Grouping\n",
    "\n",
    "Grouping is the process of splitting the data into groups based on certain criteria. The `groupby()` function is used for this purpose."
   ]
  },
  {
   "cell_type": "markdown",
   "id": "e3d09a8f-953c-448a-a5f8-2e5a8cca7291",
   "metadata": {
    "id": "e3d09a8f-953c-448a-a5f8-2e5a8cca7291"
   },
   "source": [
    "*In data analysis, a long format table is a way of structuring data in which each observation or measurement is stored in a separate row of the table. The key characteristic of a long format table is that each column represents a single variable, and each row represents a single observation of that variable.*\n",
    "\n",
    "*More information about long and wide format tables here: https://www.statology.org/long-vs-wide-data/*"
   ]
  },
  {
   "cell_type": "code",
   "execution_count": null,
   "id": "3a069e0b-b400-470e-904d-d17582191be4",
   "metadata": {
    "id": "3a069e0b-b400-470e-904d-d17582191be4"
   },
   "outputs": [],
   "source": [
    "# Your code goes here"
   ]
  },
  {
   "cell_type": "code",
   "execution_count": null,
   "id": "57e13c4c",
   "metadata": {},
   "outputs": [],
   "source": []
  }
 ],
 "metadata": {
  "colab": {
   "provenance": []
  },
  "kernelspec": {
   "display_name": "Python 3 (ipykernel)",
   "language": "python",
   "name": "python3"
  },
  "language_info": {
   "codemirror_mode": {
    "name": "ipython",
    "version": 3
   },
   "file_extension": ".py",
   "mimetype": "text/x-python",
   "name": "python",
   "nbconvert_exporter": "python",
   "pygments_lexer": "ipython3",
   "version": "3.11.7"
  }
 },
 "nbformat": 4,
 "nbformat_minor": 5
}
